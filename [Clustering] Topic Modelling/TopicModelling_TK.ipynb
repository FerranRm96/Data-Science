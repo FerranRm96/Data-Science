{
 "cells": [
  {
   "cell_type": "code",
   "execution_count": 83,
   "metadata": {},
   "outputs": [],
   "source": [
    "import pandas as pd"
   ]
  },
  {
   "cell_type": "code",
   "execution_count": 84,
   "metadata": {},
   "outputs": [],
   "source": [
    "df = pd.read_csv('abcnews-date-text.csv', error_bad_lines=False);\n",
    "data_text = df[['headline_text']]\n",
    "data_text['index'] = data_text.index\n",
    "documents = data_text"
   ]
  },
  {
   "cell_type": "code",
   "execution_count": 85,
   "metadata": {},
   "outputs": [
    {
     "name": "stderr",
     "output_type": "stream",
     "text": [
      "[nltk_data] Downloading package wordnet to\n",
      "[nltk_data]     C:\\Users\\Ferran\\AppData\\Roaming\\nltk_data...\n",
      "[nltk_data]   Package wordnet is already up-to-date!\n"
     ]
    },
    {
     "data": {
      "text/plain": [
       "True"
      ]
     },
     "execution_count": 85,
     "metadata": {},
     "output_type": "execute_result"
    }
   ],
   "source": [
    "import gensim\n",
    "from gensim.utils import simple_preprocess\n",
    "from gensim.parsing.preprocessing import STOPWORDS\n",
    "from nltk.stem import WordNetLemmatizer, SnowballStemmer\n",
    "from nltk.stem.porter import *\n",
    "import numpy as np\n",
    "np.random.seed(2018)\n",
    "import nltk\n",
    "nltk.download('wordnet')"
   ]
  },
  {
   "cell_type": "code",
   "execution_count": 86,
   "metadata": {},
   "outputs": [],
   "source": [
    "def lemmatize_stemming(text):\n",
    "    stemmer = SnowballStemmer(\"english\")\n",
    "    return stemmer.stem(WordNetLemmatizer().lemmatize(text, pos='v'))\n",
    "\n",
    "def preprocess(text):\n",
    "    result = []\n",
    "    for token in gensim.utils.simple_preprocess(text):\n",
    "        if token not in gensim.parsing.preprocessing.STOPWORDS and len(token) > 3:\n",
    "            result.append(lemmatize_stemming(token))\n",
    "    return result"
   ]
  },
  {
   "cell_type": "code",
   "execution_count": 87,
   "metadata": {},
   "outputs": [
    {
     "name": "stdout",
     "output_type": "stream",
     "text": [
      "original document: \n",
      "['ratepayers', 'group', 'wants', 'compulsory', 'local', 'govt', 'voting']\n"
     ]
    }
   ],
   "source": [
    "doc_sample = documents[documents['index'] == 4310].values[0][0]\n",
    "print('original document: ')\n",
    "words = []\n",
    "for word in doc_sample.split(' '):\n",
    "    words.append(word)\n",
    "print(words)"
   ]
  },
  {
   "cell_type": "code",
   "execution_count": 88,
   "metadata": {},
   "outputs": [
    {
     "name": "stdout",
     "output_type": "stream",
     "text": [
      "\n",
      "\n",
      " tokenized and lemmatized document: \n",
      "['ratepay', 'group', 'want', 'compulsori', 'local', 'govt', 'vote']\n"
     ]
    }
   ],
   "source": [
    "print('\\n\\n tokenized and lemmatized document: ')\n",
    "print(preprocess(doc_sample))"
   ]
  },
  {
   "cell_type": "code",
   "execution_count": 89,
   "metadata": {},
   "outputs": [
    {
     "data": {
      "text/plain": [
       "0            [decid, communiti, broadcast, licenc]\n",
       "1                               [wit, awar, defam]\n",
       "2           [call, infrastructur, protect, summit]\n",
       "3                      [staff, aust, strike, rise]\n",
       "4             [strike, affect, australian, travel]\n",
       "5               [ambiti, olsson, win, tripl, jump]\n",
       "6           [antic, delight, record, break, barca]\n",
       "7    [aussi, qualifi, stosur, wast, memphi, match]\n",
       "8            [aust, address, secur, council, iraq]\n",
       "9                         [australia, lock, timet]\n",
       "Name: headline_text, dtype: object"
      ]
     },
     "execution_count": 89,
     "metadata": {},
     "output_type": "execute_result"
    }
   ],
   "source": [
    "processed_docs = documents['headline_text'].map(preprocess)\n",
    "processed_docs[:10]"
   ]
  },
  {
   "cell_type": "code",
   "execution_count": 90,
   "metadata": {},
   "outputs": [
    {
     "name": "stdout",
     "output_type": "stream",
     "text": [
      "0 broadcast\n",
      "1 communiti\n",
      "2 decid\n",
      "3 licenc\n",
      "4 awar\n",
      "5 defam\n",
      "6 wit\n",
      "7 call\n",
      "8 infrastructur\n",
      "9 protect\n",
      "10 summit\n"
     ]
    }
   ],
   "source": [
    "dictionary = gensim.corpora.Dictionary(processed_docs)\n",
    "count = 0\n",
    "for k, v in dictionary.iteritems():\n",
    "    print(k, v)\n",
    "    count += 1\n",
    "    if count > 10:\n",
    "        break"
   ]
  },
  {
   "cell_type": "code",
   "execution_count": 91,
   "metadata": {},
   "outputs": [],
   "source": [
    "dictionary.filter_extremes(no_below=15, no_above=0.5, keep_n=100000)"
   ]
  },
  {
   "cell_type": "code",
   "execution_count": 92,
   "metadata": {},
   "outputs": [
    {
     "data": {
      "text/plain": [
       "[(162, 1), (240, 1), (292, 1), (589, 1), (838, 1), (3570, 1), (3571, 1)]"
      ]
     },
     "execution_count": 92,
     "metadata": {},
     "output_type": "execute_result"
    }
   ],
   "source": [
    "bow_corpus = [dictionary.doc2bow(doc) for doc in processed_docs]\n",
    "bow_corpus[4310]"
   ]
  },
  {
   "cell_type": "code",
   "execution_count": 93,
   "metadata": {},
   "outputs": [
    {
     "name": "stdout",
     "output_type": "stream",
     "text": [
      "Word 162 (\"govt\") appears 1 time.\n",
      "Word 240 (\"group\") appears 1 time.\n",
      "Word 292 (\"vote\") appears 1 time.\n",
      "Word 589 (\"local\") appears 1 time.\n",
      "Word 838 (\"want\") appears 1 time.\n",
      "Word 3570 (\"compulsori\") appears 1 time.\n",
      "Word 3571 (\"ratepay\") appears 1 time.\n"
     ]
    }
   ],
   "source": [
    "bow_doc_4310 = bow_corpus[4310]\n",
    "for i in range(len(bow_doc_4310)):\n",
    "    print(\"Word {} (\\\"{}\\\") appears {} time.\".format(bow_doc_4310[i][0], \n",
    "                                               dictionary[bow_doc_4310[i][0]], \n",
    "bow_doc_4310[i][1]))\n",
    "    "
   ]
  },
  {
   "cell_type": "code",
   "execution_count": 94,
   "metadata": {},
   "outputs": [
    {
     "name": "stdout",
     "output_type": "stream",
     "text": [
      "[(0, 0.5842699484464488),\n",
      " (1, 0.38798859072167835),\n",
      " (2, 0.5008422243250992),\n",
      " (3, 0.5071987254965034)]\n"
     ]
    }
   ],
   "source": [
    "from gensim import corpora, models\n",
    "tfidf = models.TfidfModel(bow_corpus)\n",
    "corpus_tfidf = tfidf[bow_corpus]\n",
    "from pprint import pprint\n",
    "for doc in corpus_tfidf:\n",
    "    pprint(doc)\n",
    "    break"
   ]
  },
  {
   "cell_type": "code",
   "execution_count": 95,
   "metadata": {},
   "outputs": [],
   "source": [
    "lda_model = gensim.models.LdaMulticore(bow_corpus, num_topics=10, id2word=dictionary, passes=2, workers=2)"
   ]
  },
  {
   "cell_type": "code",
   "execution_count": 96,
   "metadata": {},
   "outputs": [
    {
     "name": "stdout",
     "output_type": "stream",
     "text": [
      "Topic: 0 \n",
      "Words: 0.041*\"polic\" + 0.026*\"charg\" + 0.025*\"case\" + 0.025*\"court\" + 0.024*\"death\" + 0.021*\"murder\" + 0.017*\"woman\" + 0.017*\"face\" + 0.016*\"alleg\" + 0.013*\"shoot\"\n",
      "Topic: 1 \n",
      "Words: 0.047*\"trump\" + 0.025*\"world\" + 0.020*\"open\" + 0.018*\"women\" + 0.015*\"island\" + 0.013*\"win\" + 0.013*\"return\" + 0.012*\"lose\" + 0.012*\"street\" + 0.010*\"sydney\"\n",
      "Topic: 2 \n",
      "Words: 0.026*\"live\" + 0.023*\"nation\" + 0.018*\"coronavirus\" + 0.017*\"restrict\" + 0.015*\"water\" + 0.014*\"life\" + 0.013*\"sentenc\" + 0.012*\"plan\" + 0.011*\"park\" + 0.010*\"council\"\n",
      "Topic: 3 \n",
      "Words: 0.039*\"queensland\" + 0.026*\"sydney\" + 0.020*\"bushfir\" + 0.020*\"crash\" + 0.018*\"adelaid\" + 0.018*\"die\" + 0.015*\"final\" + 0.015*\"perth\" + 0.014*\"miss\" + 0.011*\"break\"\n",
      "Topic: 4 \n",
      "Words: 0.033*\"year\" + 0.020*\"famili\" + 0.018*\"canberra\" + 0.018*\"melbourn\" + 0.018*\"tasmania\" + 0.015*\"jail\" + 0.013*\"work\" + 0.013*\"australian\" + 0.013*\"high\" + 0.012*\"tasmanian\"\n",
      "Topic: 5 \n",
      "Words: 0.029*\"govern\" + 0.021*\"coronavirus\" + 0.019*\"health\" + 0.018*\"victoria\" + 0.017*\"help\" + 0.015*\"state\" + 0.015*\"school\" + 0.013*\"indigen\" + 0.012*\"fund\" + 0.012*\"communiti\"\n",
      "Topic: 6 \n",
      "Words: 0.044*\"australia\" + 0.027*\"elect\" + 0.025*\"donald\" + 0.023*\"kill\" + 0.020*\"coast\" + 0.020*\"australian\" + 0.016*\"border\" + 0.014*\"protest\" + 0.013*\"gold\" + 0.012*\"attack\"\n",
      "Topic: 7 \n",
      "Words: 0.025*\"news\" + 0.023*\"hous\" + 0.017*\"busi\" + 0.017*\"brisban\" + 0.017*\"peopl\" + 0.016*\"farmer\" + 0.016*\"time\" + 0.014*\"royal\" + 0.014*\"market\" + 0.013*\"west\"\n",
      "Topic: 8 \n",
      "Words: 0.040*\"covid\" + 0.035*\"coronavirus\" + 0.032*\"australia\" + 0.030*\"china\" + 0.025*\"test\" + 0.020*\"chang\" + 0.011*\"climat\" + 0.011*\"train\" + 0.009*\"cricket\" + 0.009*\"like\"\n",
      "Topic: 9 \n",
      "Words: 0.022*\"call\" + 0.019*\"rise\" + 0.018*\"victorian\" + 0.015*\"morrison\" + 0.015*\"scott\" + 0.015*\"claim\" + 0.013*\"farm\" + 0.013*\"budget\" + 0.011*\"reveal\" + 0.010*\"vaccin\"\n"
     ]
    }
   ],
   "source": [
    "for idx, topic in lda_model.print_topics(-1):\n",
    "    print('Topic: {} \\nWords: {}'.format(idx, topic))"
   ]
  },
  {
   "cell_type": "code",
   "execution_count": 97,
   "metadata": {},
   "outputs": [
    {
     "name": "stdout",
     "output_type": "stream",
     "text": [
      "Topic: 0 Word: 0.015*\"coronavirus\" + 0.014*\"covid\" + 0.009*\"weather\" + 0.008*\"market\" + 0.008*\"street\" + 0.008*\"vaccin\" + 0.008*\"northern\" + 0.007*\"wall\" + 0.007*\"price\" + 0.007*\"australian\"\n",
      "Topic: 1 Word: 0.016*\"countri\" + 0.011*\"hour\" + 0.011*\"restrict\" + 0.009*\"interview\" + 0.009*\"south\" + 0.008*\"queensland\" + 0.008*\"scott\" + 0.007*\"rain\" + 0.007*\"east\" + 0.007*\"coronavirus\"\n",
      "Topic: 2 Word: 0.011*\"coronavirus\" + 0.010*\"care\" + 0.008*\"age\" + 0.008*\"turnbul\" + 0.007*\"lockdown\" + 0.007*\"children\" + 0.007*\"coal\" + 0.006*\"plead\" + 0.006*\"hobart\" + 0.006*\"histori\"\n",
      "Topic: 3 Word: 0.021*\"news\" + 0.014*\"drum\" + 0.013*\"crash\" + 0.010*\"morrison\" + 0.009*\"monday\" + 0.009*\"tuesday\" + 0.009*\"peopl\" + 0.009*\"miss\" + 0.008*\"thursday\" + 0.008*\"search\"\n",
      "Topic: 4 Word: 0.018*\"donald\" + 0.012*\"border\" + 0.007*\"korea\" + 0.007*\"kill\" + 0.006*\"outback\" + 0.006*\"russia\" + 0.006*\"biden\" + 0.006*\"novemb\" + 0.005*\"north\" + 0.005*\"china\"\n",
      "Topic: 5 Word: 0.012*\"govern\" + 0.009*\"health\" + 0.008*\"elect\" + 0.007*\"budget\" + 0.007*\"feder\" + 0.006*\"fund\" + 0.006*\"say\" + 0.006*\"labor\" + 0.006*\"rural\" + 0.005*\"minist\"\n",
      "Topic: 6 Word: 0.011*\"coronavirus\" + 0.011*\"christma\" + 0.009*\"friday\" + 0.009*\"andrew\" + 0.008*\"tasmania\" + 0.008*\"sexual\" + 0.007*\"juli\" + 0.006*\"australia\" + 0.006*\"kid\" + 0.006*\"octob\"\n",
      "Topic: 7 Word: 0.010*\"world\" + 0.010*\"australia\" + 0.008*\"stori\" + 0.007*\"sport\" + 0.007*\"michael\" + 0.007*\"leagu\" + 0.007*\"final\" + 0.007*\"open\" + 0.007*\"live\" + 0.006*\"david\"\n",
      "Topic: 8 Word: 0.018*\"polic\" + 0.018*\"charg\" + 0.017*\"murder\" + 0.012*\"court\" + 0.011*\"death\" + 0.011*\"alleg\" + 0.010*\"woman\" + 0.010*\"shoot\" + 0.009*\"arrest\" + 0.009*\"assault\"\n",
      "Topic: 9 Word: 0.033*\"trump\" + 0.011*\"royal\" + 0.010*\"commiss\" + 0.009*\"wednesday\" + 0.009*\"updat\" + 0.008*\"violenc\" + 0.008*\"coronavirus\" + 0.007*\"alan\" + 0.006*\"financ\" + 0.006*\"domest\"\n"
     ]
    }
   ],
   "source": [
    "lda_model_tfidf = gensim.models.LdaMulticore(corpus_tfidf, num_topics=10, id2word=dictionary, passes=2, workers=4)\n",
    "for idx, topic in lda_model_tfidf.print_topics(-1):\n",
    "    print('Topic: {} Word: {}'.format(idx, topic))"
   ]
  },
  {
   "cell_type": "code",
   "execution_count": 98,
   "metadata": {},
   "outputs": [
    {
     "name": "stdout",
     "output_type": "stream",
     "text": [
      "\n",
      "Score: 0.6805880069732666\t \n",
      "Topic: 0.029*\"govern\" + 0.021*\"coronavirus\" + 0.019*\"health\" + 0.018*\"victoria\" + 0.017*\"help\" + 0.015*\"state\" + 0.015*\"school\" + 0.013*\"indigen\" + 0.012*\"fund\" + 0.012*\"communiti\"\n",
      "\n",
      "Score: 0.14080475270748138\t \n",
      "Topic: 0.033*\"year\" + 0.020*\"famili\" + 0.018*\"canberra\" + 0.018*\"melbourn\" + 0.018*\"tasmania\" + 0.015*\"jail\" + 0.013*\"work\" + 0.013*\"australian\" + 0.013*\"high\" + 0.012*\"tasmanian\"\n",
      "\n",
      "Score: 0.09102214127779007\t \n",
      "Topic: 0.044*\"australia\" + 0.027*\"elect\" + 0.025*\"donald\" + 0.023*\"kill\" + 0.020*\"coast\" + 0.020*\"australian\" + 0.016*\"border\" + 0.014*\"protest\" + 0.013*\"gold\" + 0.012*\"attack\"\n",
      "\n",
      "Score: 0.01251387968659401\t \n",
      "Topic: 0.026*\"live\" + 0.023*\"nation\" + 0.018*\"coronavirus\" + 0.017*\"restrict\" + 0.015*\"water\" + 0.014*\"life\" + 0.013*\"sentenc\" + 0.012*\"plan\" + 0.011*\"park\" + 0.010*\"council\"\n",
      "\n",
      "Score: 0.012513126246631145\t \n",
      "Topic: 0.025*\"news\" + 0.023*\"hous\" + 0.017*\"busi\" + 0.017*\"brisban\" + 0.017*\"peopl\" + 0.016*\"farmer\" + 0.016*\"time\" + 0.014*\"royal\" + 0.014*\"market\" + 0.013*\"west\"\n",
      "\n",
      "Score: 0.012512126006186008\t \n",
      "Topic: 0.022*\"call\" + 0.019*\"rise\" + 0.018*\"victorian\" + 0.015*\"morrison\" + 0.015*\"scott\" + 0.015*\"claim\" + 0.013*\"farm\" + 0.013*\"budget\" + 0.011*\"reveal\" + 0.010*\"vaccin\"\n",
      "\n",
      "Score: 0.012511702254414558\t \n",
      "Topic: 0.040*\"covid\" + 0.035*\"coronavirus\" + 0.032*\"australia\" + 0.030*\"china\" + 0.025*\"test\" + 0.020*\"chang\" + 0.011*\"climat\" + 0.011*\"train\" + 0.009*\"cricket\" + 0.009*\"like\"\n",
      "\n",
      "Score: 0.012511559762060642\t \n",
      "Topic: 0.041*\"polic\" + 0.026*\"charg\" + 0.025*\"case\" + 0.025*\"court\" + 0.024*\"death\" + 0.021*\"murder\" + 0.017*\"woman\" + 0.017*\"face\" + 0.016*\"alleg\" + 0.013*\"shoot\"\n",
      "\n",
      "Score: 0.01251134555786848\t \n",
      "Topic: 0.047*\"trump\" + 0.025*\"world\" + 0.020*\"open\" + 0.018*\"women\" + 0.015*\"island\" + 0.013*\"win\" + 0.013*\"return\" + 0.012*\"lose\" + 0.012*\"street\" + 0.010*\"sydney\"\n",
      "\n",
      "Score: 0.012511344626545906\t \n",
      "Topic: 0.039*\"queensland\" + 0.026*\"sydney\" + 0.020*\"bushfir\" + 0.020*\"crash\" + 0.018*\"adelaid\" + 0.018*\"die\" + 0.015*\"final\" + 0.015*\"perth\" + 0.014*\"miss\" + 0.011*\"break\"\n"
     ]
    }
   ],
   "source": [
    "for index, score in sorted(lda_model[bow_corpus[4310]], key=lambda tup: -1*tup[1]):\n",
    "    print(\"\\nScore: {}\\t \\nTopic: {}\".format(score, lda_model.print_topic(index, 10)))"
   ]
  },
  {
   "cell_type": "code",
   "execution_count": 99,
   "metadata": {},
   "outputs": [
    {
     "name": "stdout",
     "output_type": "stream",
     "text": [
      "Score: 0.32601499557495117\t Topic: 0.044*\"australia\" + 0.027*\"elect\" + 0.025*\"donald\" + 0.023*\"kill\" + 0.020*\"coast\"\n",
      "Score: 0.20679618418216705\t Topic: 0.025*\"news\" + 0.023*\"hous\" + 0.017*\"busi\" + 0.017*\"brisban\" + 0.017*\"peopl\"\n",
      "Score: 0.1838679015636444\t Topic: 0.033*\"year\" + 0.020*\"famili\" + 0.018*\"canberra\" + 0.018*\"melbourn\" + 0.018*\"tasmania\"\n",
      "Score: 0.18326212465763092\t Topic: 0.041*\"polic\" + 0.026*\"charg\" + 0.025*\"case\" + 0.025*\"court\" + 0.024*\"death\"\n",
      "Score: 0.016678139567375183\t Topic: 0.040*\"covid\" + 0.035*\"coronavirus\" + 0.032*\"australia\" + 0.030*\"china\" + 0.025*\"test\"\n",
      "Score: 0.01667659915983677\t Topic: 0.029*\"govern\" + 0.021*\"coronavirus\" + 0.019*\"health\" + 0.018*\"victoria\" + 0.017*\"help\"\n",
      "Score: 0.016676535829901695\t Topic: 0.047*\"trump\" + 0.025*\"world\" + 0.020*\"open\" + 0.018*\"women\" + 0.015*\"island\"\n",
      "Score: 0.016676170751452446\t Topic: 0.022*\"call\" + 0.019*\"rise\" + 0.018*\"victorian\" + 0.015*\"morrison\" + 0.015*\"scott\"\n",
      "Score: 0.016676127910614014\t Topic: 0.026*\"live\" + 0.023*\"nation\" + 0.018*\"coronavirus\" + 0.017*\"restrict\" + 0.015*\"water\"\n",
      "Score: 0.016675246879458427\t Topic: 0.039*\"queensland\" + 0.026*\"sydney\" + 0.020*\"bushfir\" + 0.020*\"crash\" + 0.018*\"adelaid\"\n"
     ]
    }
   ],
   "source": [
    "unseen_document = 'How a Pentagon deal became an identity crisis for Google'\n",
    "bow_vector = dictionary.doc2bow(preprocess(unseen_document))\n",
    "for index, score in sorted(lda_model[bow_vector], key=lambda tup: -1*tup[1]):\n",
    "    print(\"Score: {}\\t Topic: {}\".format(score, lda_model.print_topic(index, 5)))"
   ]
  },
  {
   "cell_type": "code",
   "execution_count": null,
   "metadata": {},
   "outputs": [],
   "source": []
  }
 ],
 "metadata": {
  "kernelspec": {
   "display_name": "Python 3",
   "language": "python",
   "name": "python3"
  },
  "language_info": {
   "codemirror_mode": {
    "name": "ipython",
    "version": 3
   },
   "file_extension": ".py",
   "mimetype": "text/x-python",
   "name": "python",
   "nbconvert_exporter": "python",
   "pygments_lexer": "ipython3",
   "version": "3.8.5"
  }
 },
 "nbformat": 4,
 "nbformat_minor": 4
}
